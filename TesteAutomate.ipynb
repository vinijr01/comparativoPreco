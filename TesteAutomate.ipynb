{
 "cells": [
  {
   "cell_type": "code",
   "execution_count": 1,
   "metadata": {},
   "outputs": [],
   "source": [
    "import pandas as pd\n",
    "import requests\n",
    "from bs4 import BeautifulSoup\n",
    "\n",
    "from selenium import webdriver\n",
    "from selenium.webdriver.common.by import By\n",
    "from selenium.webdriver.support.ui import WebDriverWait\n",
    "from selenium.webdriver.support import expected_conditions as EC\n",
    "from selenium.common.exceptions import TimeoutException\n",
    "\n",
    "import dadosPrivados\n",
    "import random\n",
    "from time import sleep\n",
    "import plotly.express as px\n",
    "import smtplib\n",
    "from email.message import EmailMessage"
   ]
  },
  {
   "cell_type": "code",
   "execution_count": null,
   "metadata": {},
   "outputs": [],
   "source": [
    "API_KEY = dadosPrivados.chaveApiScrapingBee()\n",
    "LinksProd = []\n",
    "\n",
    "nomeProduto = str(input(\"Digite o nome do produto: \"))\n",
    "\n",
    "c = 0\n",
    "navegador = webdriver.Chrome()\n",
    "valorProd = []\n",
    "avaliacoesProd = []\n",
    "dadosCompletos = {\n",
    "    \"Preço\": valorProd,\n",
    "    \"Avaliações\": avaliacoesProd,\n",
    "    \"Link Produto\": LinksProd\n",
    "}\n",
    "\n",
    "\n",
    "url = f\"https://www.amazon.com.br/s?k={nomeProduto}\"\n",
    "\n",
    "user_agents = [\n",
    "    \"Mozilla/5.0 (Windows NT 10.0; Win64; x64) AppleWebKit/537.36 (KHTML, like Gecko) Chrome/110.0.0.0 Safari/537.36\",\n",
    "    \"Mozilla/5.0 (Macintosh; Intel Mac OS X 10_15_7) AppleWebKit/537.36 (KHTML, like Gecko) Chrome/112.0.0.0 Safari/537.36\",\n",
    "    \"Mozilla/5.0 (X11; Ubuntu; Linux x86_64; rv:109.0) Gecko/20100101 Firefox/109.0\",\n",
    "]\n",
    "\n",
    "agentesSelecionados = random.choice(user_agents)\n",
    "\n",
    "params = {\n",
    "    \"api_key\": API_KEY,\n",
    "    \"url\": url,\n",
    "    \"render_js\": \"true\", \n",
    "    # \"stealth_proxy\": \"true\",\n",
    "    # \"custom_headers\": f'{{\"User-Agent\": \"{agentesSelecionados}\"}}'\n",
    "}\n"
   ]
  },
  {
   "cell_type": "code",
   "execution_count": null,
   "metadata": {},
   "outputs": [
    {
     "name": "stdout",
     "output_type": "stream",
     "text": [
      "Links Encontrados: \n",
      "-------> https://www.amazon.com.br/Smartphone-Samsung-Galaxy-Selfie-1-120Hz/dp/B0CQD9W98F/ref=cs_sr_dp_1 <-------\n",
      "-------> https://www.amazon.com.br/Smartphone-Samsung-Galaxy-Selfie-1-120Hz/dp/B0CQD99RZB/ref=cs_sr_dp_2 <-------\n",
      "-------> https://www.amazon.com.br/Smartphone-Samsung-Galaxy-Selfie-1-120Hz/dp/B0CQD7PK51/ref=cs_sr_dp_3 <-------\n",
      "-------> https://www.amazon.com.br/Smartphone-Samsung-Galaxy-Selfie-1-120Hz/dp/B0CQD9W98F/ref=sr_1_1 <-------\n",
      "-------> https://www.amazon.com.br/Smartphone-Samsung-Galaxy-Selfie-1-120Hz/dp/B0CQD9W98F/ref=vo_sr_l_dp <-------\n"
     ]
    }
   ],
   "source": [
    "response = requests.get(\"https://app.scrapingbee.com/api/v1\", params=params)\n",
    "\n",
    "if response.status_code == 200:\n",
    "\n",
    "    soup = BeautifulSoup(response.text, \"html.parser\")\n",
    "\n",
    "    for link in soup.find_all(\"a\", href=True):\n",
    "        if \"/dp/\" in link['href']:\n",
    "\n",
    "            titulo = link.get_text(strip=True).lower()\n",
    "            indesejado = [\"capinha\", \"capa\", \"case\", \"pelicula\", \"capinhas\", \"capas\", \"cases\", \"peliculas\", \"motorola\", \"xiaomi\", \"iphone\"]\n",
    "            if any(palavra in titulo for palavra in indesejado):\n",
    "                continue # retorna \"True\" se encontrar alguma palavra acima (any é mais eficiente)\n",
    "\n",
    "            # split('?')[0] limpa tudo após o href, pois oque está adiante não tem utilidade\n",
    "            full_link = f\"https://www.amazon.com.br{link['href'].split('?')[0]}\"\n",
    "\n",
    "            # verificando se o link tem um produto DISPONÍVEL (com preço aparecendo)\n",
    "            def acessoPreco():\n",
    "                navegador.get(full_link)\n",
    "\n",
    "                try:\n",
    "                    WebDriverWait(navegador, 5).until(\n",
    "                        EC.visibility_of_element_located((By.XPATH, '//*[@id=\"corePriceDisplay_desktop_feature_div\"]/div[1]/span[2]/span[2]/span[2]'))\n",
    "                    )\n",
    "\n",
    "                    return True\n",
    "                \n",
    "                except TimeoutException:\n",
    "\n",
    "                    return False\n",
    "                    \n",
    "\n",
    "            if acessoPreco() == True:\n",
    "                LinksProd.append(full_link)\n",
    "            else:\n",
    "                continue\n",
    "\n",
    "            if len(LinksProd) == 10:\n",
    "                break\n",
    "    \n",
    "    print(\"Links Encontrados: \")\n",
    "    for link in LinksProd:\n",
    "        print(f\"-------> {link} <-------\")"
   ]
  },
  {
   "cell_type": "code",
   "execution_count": null,
   "metadata": {},
   "outputs": [
    {
     "name": "stdout",
     "output_type": "stream",
     "text": [
      "\n",
      "Acessando VALOR: https://www.amazon.com.br/Smartphone-Samsung-Galaxy-Selfie-1-120Hz/dp/B0CQD9W98F/ref=cs_sr_dp_1\n",
      "\n",
      "Acessando AVALIAÇÃO: https://www.amazon.com.br/Smartphone-Samsung-Galaxy-Selfie-1-120Hz/dp/B0CQD9W98F/ref=cs_sr_dp_1\n",
      "['4.399']\n",
      "['4,8']\n",
      "\n",
      "Acessando VALOR: https://www.amazon.com.br/Smartphone-Samsung-Galaxy-Selfie-1-120Hz/dp/B0CQD99RZB/ref=cs_sr_dp_2\n",
      "\n",
      "Acessando AVALIAÇÃO: https://www.amazon.com.br/Smartphone-Samsung-Galaxy-Selfie-1-120Hz/dp/B0CQD99RZB/ref=cs_sr_dp_2\n",
      "['4.399', '3.599']\n",
      "['4,8', '4,8']\n",
      "\n",
      "Acessando VALOR: https://www.amazon.com.br/Smartphone-Samsung-Galaxy-Selfie-1-120Hz/dp/B0CQD7PK51/ref=cs_sr_dp_3\n",
      "\n",
      "Acessando AVALIAÇÃO: https://www.amazon.com.br/Smartphone-Samsung-Galaxy-Selfie-1-120Hz/dp/B0CQD7PK51/ref=cs_sr_dp_3\n",
      "['4.399', '3.599', '3.599']\n",
      "['4,8', '4,8', '4,8']\n",
      "\n",
      "Acessando VALOR: https://www.amazon.com.br/Smartphone-Samsung-Galaxy-Selfie-1-120Hz/dp/B0CQD9W98F/ref=sr_1_1\n",
      "\n",
      "Acessando AVALIAÇÃO: https://www.amazon.com.br/Smartphone-Samsung-Galaxy-Selfie-1-120Hz/dp/B0CQD9W98F/ref=sr_1_1\n",
      "['4.399', '3.599', '3.599', '4.399']\n",
      "['4,8', '4,8', '4,8', '4,8']\n",
      "\n",
      "Acessando VALOR: https://www.amazon.com.br/Smartphone-Samsung-Galaxy-Selfie-1-120Hz/dp/B0CQD9W98F/ref=vo_sr_l_dp\n",
      "\n",
      "Acessando AVALIAÇÃO: https://www.amazon.com.br/Smartphone-Samsung-Galaxy-Selfie-1-120Hz/dp/B0CQD9W98F/ref=vo_sr_l_dp\n",
      "['4.399', '3.599', '3.599', '4.399', '4.399']\n",
      "['4,8', '4,8', '4,8', '4,8', '4,8']\n",
      "{'Preço': ['4.399', '3.599', '3.599', '4.399', '4.399'], 'Avaliações': ['4,8', '4,8', '4,8', '4,8', '4,8'], 'Link Produto': ['https://www.amazon.com.br/Smartphone-Samsung-Galaxy-Selfie-1-120Hz/dp/B0CQD9W98F/ref=cs_sr_dp_1', 'https://www.amazon.com.br/Smartphone-Samsung-Galaxy-Selfie-1-120Hz/dp/B0CQD99RZB/ref=cs_sr_dp_2', 'https://www.amazon.com.br/Smartphone-Samsung-Galaxy-Selfie-1-120Hz/dp/B0CQD7PK51/ref=cs_sr_dp_3', 'https://www.amazon.com.br/Smartphone-Samsung-Galaxy-Selfie-1-120Hz/dp/B0CQD9W98F/ref=sr_1_1', 'https://www.amazon.com.br/Smartphone-Samsung-Galaxy-Selfie-1-120Hz/dp/B0CQD9W98F/ref=vo_sr_l_dp']}\n"
     ]
    }
   ],
   "source": [
    "for linksCel in LinksProd:\n",
    "    navegador.get(linksCel)\n",
    "\n",
    "    cPreco = 0\n",
    "    cAvaliacao = 0\n",
    "\n",
    "    try:\n",
    "        sleep(3)\n",
    "        print()\n",
    "        print(f\"Acessando VALOR: {linksCel}\")\n",
    "        elemento01 = WebDriverWait(navegador, 20).until(\n",
    "            EC.visibility_of_element_located((By.XPATH, '//*[@id=\"corePriceDisplay_desktop_feature_div\"]/div[1]/span[2]/span[2]/span[2]'))\n",
    "        )\n",
    "\n",
    "        cPreco += 1\n",
    "        texto_elemento01 = elemento01.text\n",
    "        valorProd.append(texto_elemento01)\n",
    "\n",
    "    except Exception as erro:\n",
    "        print(f\"Não foi possível acessar o {c}° XPATH do elemento. {erro}\")\n",
    "\n",
    "        try:\n",
    "            print(f\"Vamos tentar por um XPATH mais genérico e menos propenso a mudanças...\")\n",
    "            elemento03 = WebDriverWait(navegador, 20).until(\n",
    "                EC.visibility_of_element_located((By.XPATH, '//div[@id=\"corePriceDisplay_desktop_feature_div\"]//span[contains(@class, \"a-price-whole\")]'))\n",
    "            )\n",
    "\n",
    "            cPreco += 1\n",
    "            texto_elemento03 = elemento03.text\n",
    "            valorProd.append(texto_elemento03)\n",
    "\n",
    "        except Exception as erro:\n",
    "            print(f\"Não foi possível acessar o {c}° XPATH GENÉRICO do elemento. {erro}\")\n",
    "\n",
    "            try:\n",
    "                print(f\"Vamos tentar pelo CSS_SELECTOR...\")\n",
    "                elemento05 = WebDriverWait(navegador, 20).until(\n",
    "                    EC.visibility_of_element_located((By.CSS_SELECTOR, '#corePriceDisplay_desktop_feature_div > div.a-section.a-spacing-none.aok-align-center.aok-relative > span.a-price.aok-align-center.reinventPricePriceToPayMargin.priceToPay > span:nth-child(2) > span.a-price-whole'))\n",
    "                )\n",
    "\n",
    "                cPreco += 1\n",
    "                texto_elemento05 = elemento05.text\n",
    "                valorProd.append(texto_elemento05)\n",
    "                \n",
    "            except Exception as erro:\n",
    "                print(f\"Não foi possível acessar o {c}° CSS_SELECTOR do elemento. {erro}\")\n",
    "            \n",
    "\n",
    "    try:\n",
    "        sleep(3)\n",
    "        print()\n",
    "        print(f\"Acessando AVALIAÇÃO: {linksCel}\")\n",
    "        elemento02 = WebDriverWait(navegador, 20).until(\n",
    "            EC.visibility_of_element_located((By.XPATH, '//*[@id=\"acrPopover\"]/span/a/span'))\n",
    "        )\n",
    "\n",
    "        cAvaliacao += 1\n",
    "        texto_elemento02 = elemento02.text\n",
    "        avaliacoesProd.append(texto_elemento02)\n",
    "\n",
    "    except Exception as erro:\n",
    "        print(f\"Não foi possível acessar o XPATH do elemento. {erro}\")\n",
    "\n",
    "        try:\n",
    "            elemento04 = WebDriverWait(navegador, 20).until(\n",
    "                EC.visibility_of_element_located((By.XPATH, '//div[@id=\"acrPopover\"]//span[contains(@class, \"a-size-small a-color-base\")]'))\n",
    "            )\n",
    "\n",
    "            cAvaliacao += 1\n",
    "            texto_elemento04 = elemento04.text\n",
    "            avaliacoesProd.append(texto_elemento04)\n",
    "\n",
    "        except Exception as erro:\n",
    "            print(f\"Não foi possível acessar o {c}° XPATH GENÉRICO do elemento. {erro}\")\n",
    "\n",
    "            try:\n",
    "                elemento06 = WebDriverWait(navegador, 20).until(\n",
    "                    EC.visibility_of_element_located((By.CSS_SELECTOR, '#acrPopover > span > a > span'))\n",
    "                )\n",
    "\n",
    "                cAvaliacao += 1\n",
    "                texto_elemento06 = elemento06.text\n",
    "                avaliacoesProd.append(texto_elemento06)\n",
    "\n",
    "            except Exception as erro:\n",
    "                print(f\"Não foi possível acessar o {c}° CSS_SELECTOR do elemento. {erro}\")\n",
    "\n",
    "\n",
    "    print(valorProd)\n",
    "    print(avaliacoesProd)\n",
    "    \n",
    "print(dadosCompletos)"
   ]
  },
  {
   "cell_type": "code",
   "execution_count": null,
   "metadata": {},
   "outputs": [
    {
     "name": "stdout",
     "output_type": "stream",
     "text": [
      "Dados do produto: SamsungS24\n"
     ]
    },
    {
     "data": {
      "text/html": [
       "<div>\n",
       "<style scoped>\n",
       "    .dataframe tbody tr th:only-of-type {\n",
       "        vertical-align: middle;\n",
       "    }\n",
       "\n",
       "    .dataframe tbody tr th {\n",
       "        vertical-align: top;\n",
       "    }\n",
       "\n",
       "    .dataframe thead th {\n",
       "        text-align: right;\n",
       "    }\n",
       "</style>\n",
       "<table border=\"1\" class=\"dataframe\">\n",
       "  <thead>\n",
       "    <tr style=\"text-align: right;\">\n",
       "      <th></th>\n",
       "      <th>Preço</th>\n",
       "      <th>Avaliações</th>\n",
       "      <th>Link Produto</th>\n",
       "    </tr>\n",
       "  </thead>\n",
       "  <tbody>\n",
       "    <tr>\n",
       "      <th>0</th>\n",
       "      <td>4.399</td>\n",
       "      <td>4,8</td>\n",
       "      <td>https://www.amazon.com.br/Smartphone-Samsung-G...</td>\n",
       "    </tr>\n",
       "    <tr>\n",
       "      <th>1</th>\n",
       "      <td>3.599</td>\n",
       "      <td>4,8</td>\n",
       "      <td>https://www.amazon.com.br/Smartphone-Samsung-G...</td>\n",
       "    </tr>\n",
       "    <tr>\n",
       "      <th>2</th>\n",
       "      <td>3.599</td>\n",
       "      <td>4,8</td>\n",
       "      <td>https://www.amazon.com.br/Smartphone-Samsung-G...</td>\n",
       "    </tr>\n",
       "    <tr>\n",
       "      <th>3</th>\n",
       "      <td>4.399</td>\n",
       "      <td>4,8</td>\n",
       "      <td>https://www.amazon.com.br/Smartphone-Samsung-G...</td>\n",
       "    </tr>\n",
       "    <tr>\n",
       "      <th>4</th>\n",
       "      <td>4.399</td>\n",
       "      <td>4,8</td>\n",
       "      <td>https://www.amazon.com.br/Smartphone-Samsung-G...</td>\n",
       "    </tr>\n",
       "  </tbody>\n",
       "</table>\n",
       "</div>"
      ],
      "text/plain": [
       "   Preço Avaliações                                       Link Produto\n",
       "0  4.399        4,8  https://www.amazon.com.br/Smartphone-Samsung-G...\n",
       "1  3.599        4,8  https://www.amazon.com.br/Smartphone-Samsung-G...\n",
       "2  3.599        4,8  https://www.amazon.com.br/Smartphone-Samsung-G...\n",
       "3  4.399        4,8  https://www.amazon.com.br/Smartphone-Samsung-G...\n",
       "4  4.399        4,8  https://www.amazon.com.br/Smartphone-Samsung-G..."
      ]
     },
     "metadata": {},
     "output_type": "display_data"
    }
   ],
   "source": [
    "tabela = pd.DataFrame.from_dict(dadosCompletos, orient=\"columns\")\n",
    "\n",
    "df = pd.DataFrame(tabela)\n",
    "print(f\"Dados do produto: {nomeProduto}\")\n",
    "\n",
    "df.to_csv(\"AutomateWeb.xlsx\", index=False)\n",
    "\n",
    "display(df)"
   ]
  },
  {
   "cell_type": "code",
   "execution_count": null,
   "metadata": {},
   "outputs": [
    {
     "data": {
      "application/vnd.plotly.v1+json": {
       "config": {
        "plotlyServerURL": "https://plot.ly"
       },
       "data": [
        {
         "alignmentgroup": "True",
         "hovertemplate": "Produto=%{x}<br>Preço (R$)=%{text}<extra></extra>",
         "legendgroup": "",
         "marker": {
          "color": "#636efa",
          "pattern": {
           "shape": ""
          }
         },
         "name": "",
         "offsetgroup": "",
         "orientation": "v",
         "showlegend": false,
         "text": [
          4.399,
          3.599,
          3.599,
          4.399,
          4.399
         ],
         "textposition": "auto",
         "type": "bar",
         "x": [
          "SamsungS24 1",
          "SamsungS24 2",
          "SamsungS24 3",
          "SamsungS24 4",
          "SamsungS24 5"
         ],
         "xaxis": "x",
         "y": [
          4.399,
          3.599,
          3.599,
          4.399,
          4.399
         ],
         "yaxis": "y"
        }
       ],
       "layout": {
        "barmode": "relative",
        "legend": {
         "tracegroupgap": 0
        },
        "template": {
         "data": {
          "bar": [
           {
            "error_x": {
             "color": "#2a3f5f"
            },
            "error_y": {
             "color": "#2a3f5f"
            },
            "marker": {
             "line": {
              "color": "#E5ECF6",
              "width": 0.5
             },
             "pattern": {
              "fillmode": "overlay",
              "size": 10,
              "solidity": 0.2
             }
            },
            "type": "bar"
           }
          ],
          "barpolar": [
           {
            "marker": {
             "line": {
              "color": "#E5ECF6",
              "width": 0.5
             },
             "pattern": {
              "fillmode": "overlay",
              "size": 10,
              "solidity": 0.2
             }
            },
            "type": "barpolar"
           }
          ],
          "carpet": [
           {
            "aaxis": {
             "endlinecolor": "#2a3f5f",
             "gridcolor": "white",
             "linecolor": "white",
             "minorgridcolor": "white",
             "startlinecolor": "#2a3f5f"
            },
            "baxis": {
             "endlinecolor": "#2a3f5f",
             "gridcolor": "white",
             "linecolor": "white",
             "minorgridcolor": "white",
             "startlinecolor": "#2a3f5f"
            },
            "type": "carpet"
           }
          ],
          "choropleth": [
           {
            "colorbar": {
             "outlinewidth": 0,
             "ticks": ""
            },
            "type": "choropleth"
           }
          ],
          "contour": [
           {
            "colorbar": {
             "outlinewidth": 0,
             "ticks": ""
            },
            "colorscale": [
             [
              0,
              "#0d0887"
             ],
             [
              0.1111111111111111,
              "#46039f"
             ],
             [
              0.2222222222222222,
              "#7201a8"
             ],
             [
              0.3333333333333333,
              "#9c179e"
             ],
             [
              0.4444444444444444,
              "#bd3786"
             ],
             [
              0.5555555555555556,
              "#d8576b"
             ],
             [
              0.6666666666666666,
              "#ed7953"
             ],
             [
              0.7777777777777778,
              "#fb9f3a"
             ],
             [
              0.8888888888888888,
              "#fdca26"
             ],
             [
              1,
              "#f0f921"
             ]
            ],
            "type": "contour"
           }
          ],
          "contourcarpet": [
           {
            "colorbar": {
             "outlinewidth": 0,
             "ticks": ""
            },
            "type": "contourcarpet"
           }
          ],
          "heatmap": [
           {
            "colorbar": {
             "outlinewidth": 0,
             "ticks": ""
            },
            "colorscale": [
             [
              0,
              "#0d0887"
             ],
             [
              0.1111111111111111,
              "#46039f"
             ],
             [
              0.2222222222222222,
              "#7201a8"
             ],
             [
              0.3333333333333333,
              "#9c179e"
             ],
             [
              0.4444444444444444,
              "#bd3786"
             ],
             [
              0.5555555555555556,
              "#d8576b"
             ],
             [
              0.6666666666666666,
              "#ed7953"
             ],
             [
              0.7777777777777778,
              "#fb9f3a"
             ],
             [
              0.8888888888888888,
              "#fdca26"
             ],
             [
              1,
              "#f0f921"
             ]
            ],
            "type": "heatmap"
           }
          ],
          "heatmapgl": [
           {
            "colorbar": {
             "outlinewidth": 0,
             "ticks": ""
            },
            "colorscale": [
             [
              0,
              "#0d0887"
             ],
             [
              0.1111111111111111,
              "#46039f"
             ],
             [
              0.2222222222222222,
              "#7201a8"
             ],
             [
              0.3333333333333333,
              "#9c179e"
             ],
             [
              0.4444444444444444,
              "#bd3786"
             ],
             [
              0.5555555555555556,
              "#d8576b"
             ],
             [
              0.6666666666666666,
              "#ed7953"
             ],
             [
              0.7777777777777778,
              "#fb9f3a"
             ],
             [
              0.8888888888888888,
              "#fdca26"
             ],
             [
              1,
              "#f0f921"
             ]
            ],
            "type": "heatmapgl"
           }
          ],
          "histogram": [
           {
            "marker": {
             "pattern": {
              "fillmode": "overlay",
              "size": 10,
              "solidity": 0.2
             }
            },
            "type": "histogram"
           }
          ],
          "histogram2d": [
           {
            "colorbar": {
             "outlinewidth": 0,
             "ticks": ""
            },
            "colorscale": [
             [
              0,
              "#0d0887"
             ],
             [
              0.1111111111111111,
              "#46039f"
             ],
             [
              0.2222222222222222,
              "#7201a8"
             ],
             [
              0.3333333333333333,
              "#9c179e"
             ],
             [
              0.4444444444444444,
              "#bd3786"
             ],
             [
              0.5555555555555556,
              "#d8576b"
             ],
             [
              0.6666666666666666,
              "#ed7953"
             ],
             [
              0.7777777777777778,
              "#fb9f3a"
             ],
             [
              0.8888888888888888,
              "#fdca26"
             ],
             [
              1,
              "#f0f921"
             ]
            ],
            "type": "histogram2d"
           }
          ],
          "histogram2dcontour": [
           {
            "colorbar": {
             "outlinewidth": 0,
             "ticks": ""
            },
            "colorscale": [
             [
              0,
              "#0d0887"
             ],
             [
              0.1111111111111111,
              "#46039f"
             ],
             [
              0.2222222222222222,
              "#7201a8"
             ],
             [
              0.3333333333333333,
              "#9c179e"
             ],
             [
              0.4444444444444444,
              "#bd3786"
             ],
             [
              0.5555555555555556,
              "#d8576b"
             ],
             [
              0.6666666666666666,
              "#ed7953"
             ],
             [
              0.7777777777777778,
              "#fb9f3a"
             ],
             [
              0.8888888888888888,
              "#fdca26"
             ],
             [
              1,
              "#f0f921"
             ]
            ],
            "type": "histogram2dcontour"
           }
          ],
          "mesh3d": [
           {
            "colorbar": {
             "outlinewidth": 0,
             "ticks": ""
            },
            "type": "mesh3d"
           }
          ],
          "parcoords": [
           {
            "line": {
             "colorbar": {
              "outlinewidth": 0,
              "ticks": ""
             }
            },
            "type": "parcoords"
           }
          ],
          "pie": [
           {
            "automargin": true,
            "type": "pie"
           }
          ],
          "scatter": [
           {
            "fillpattern": {
             "fillmode": "overlay",
             "size": 10,
             "solidity": 0.2
            },
            "type": "scatter"
           }
          ],
          "scatter3d": [
           {
            "line": {
             "colorbar": {
              "outlinewidth": 0,
              "ticks": ""
             }
            },
            "marker": {
             "colorbar": {
              "outlinewidth": 0,
              "ticks": ""
             }
            },
            "type": "scatter3d"
           }
          ],
          "scattercarpet": [
           {
            "marker": {
             "colorbar": {
              "outlinewidth": 0,
              "ticks": ""
             }
            },
            "type": "scattercarpet"
           }
          ],
          "scattergeo": [
           {
            "marker": {
             "colorbar": {
              "outlinewidth": 0,
              "ticks": ""
             }
            },
            "type": "scattergeo"
           }
          ],
          "scattergl": [
           {
            "marker": {
             "colorbar": {
              "outlinewidth": 0,
              "ticks": ""
             }
            },
            "type": "scattergl"
           }
          ],
          "scattermapbox": [
           {
            "marker": {
             "colorbar": {
              "outlinewidth": 0,
              "ticks": ""
             }
            },
            "type": "scattermapbox"
           }
          ],
          "scatterpolar": [
           {
            "marker": {
             "colorbar": {
              "outlinewidth": 0,
              "ticks": ""
             }
            },
            "type": "scatterpolar"
           }
          ],
          "scatterpolargl": [
           {
            "marker": {
             "colorbar": {
              "outlinewidth": 0,
              "ticks": ""
             }
            },
            "type": "scatterpolargl"
           }
          ],
          "scatterternary": [
           {
            "marker": {
             "colorbar": {
              "outlinewidth": 0,
              "ticks": ""
             }
            },
            "type": "scatterternary"
           }
          ],
          "surface": [
           {
            "colorbar": {
             "outlinewidth": 0,
             "ticks": ""
            },
            "colorscale": [
             [
              0,
              "#0d0887"
             ],
             [
              0.1111111111111111,
              "#46039f"
             ],
             [
              0.2222222222222222,
              "#7201a8"
             ],
             [
              0.3333333333333333,
              "#9c179e"
             ],
             [
              0.4444444444444444,
              "#bd3786"
             ],
             [
              0.5555555555555556,
              "#d8576b"
             ],
             [
              0.6666666666666666,
              "#ed7953"
             ],
             [
              0.7777777777777778,
              "#fb9f3a"
             ],
             [
              0.8888888888888888,
              "#fdca26"
             ],
             [
              1,
              "#f0f921"
             ]
            ],
            "type": "surface"
           }
          ],
          "table": [
           {
            "cells": {
             "fill": {
              "color": "#EBF0F8"
             },
             "line": {
              "color": "white"
             }
            },
            "header": {
             "fill": {
              "color": "#C8D4E3"
             },
             "line": {
              "color": "white"
             }
            },
            "type": "table"
           }
          ]
         },
         "layout": {
          "annotationdefaults": {
           "arrowcolor": "#2a3f5f",
           "arrowhead": 0,
           "arrowwidth": 1
          },
          "autotypenumbers": "strict",
          "coloraxis": {
           "colorbar": {
            "outlinewidth": 0,
            "ticks": ""
           }
          },
          "colorscale": {
           "diverging": [
            [
             0,
             "#8e0152"
            ],
            [
             0.1,
             "#c51b7d"
            ],
            [
             0.2,
             "#de77ae"
            ],
            [
             0.3,
             "#f1b6da"
            ],
            [
             0.4,
             "#fde0ef"
            ],
            [
             0.5,
             "#f7f7f7"
            ],
            [
             0.6,
             "#e6f5d0"
            ],
            [
             0.7,
             "#b8e186"
            ],
            [
             0.8,
             "#7fbc41"
            ],
            [
             0.9,
             "#4d9221"
            ],
            [
             1,
             "#276419"
            ]
           ],
           "sequential": [
            [
             0,
             "#0d0887"
            ],
            [
             0.1111111111111111,
             "#46039f"
            ],
            [
             0.2222222222222222,
             "#7201a8"
            ],
            [
             0.3333333333333333,
             "#9c179e"
            ],
            [
             0.4444444444444444,
             "#bd3786"
            ],
            [
             0.5555555555555556,
             "#d8576b"
            ],
            [
             0.6666666666666666,
             "#ed7953"
            ],
            [
             0.7777777777777778,
             "#fb9f3a"
            ],
            [
             0.8888888888888888,
             "#fdca26"
            ],
            [
             1,
             "#f0f921"
            ]
           ],
           "sequentialminus": [
            [
             0,
             "#0d0887"
            ],
            [
             0.1111111111111111,
             "#46039f"
            ],
            [
             0.2222222222222222,
             "#7201a8"
            ],
            [
             0.3333333333333333,
             "#9c179e"
            ],
            [
             0.4444444444444444,
             "#bd3786"
            ],
            [
             0.5555555555555556,
             "#d8576b"
            ],
            [
             0.6666666666666666,
             "#ed7953"
            ],
            [
             0.7777777777777778,
             "#fb9f3a"
            ],
            [
             0.8888888888888888,
             "#fdca26"
            ],
            [
             1,
             "#f0f921"
            ]
           ]
          },
          "colorway": [
           "#636efa",
           "#EF553B",
           "#00cc96",
           "#ab63fa",
           "#FFA15A",
           "#19d3f3",
           "#FF6692",
           "#B6E880",
           "#FF97FF",
           "#FECB52"
          ],
          "font": {
           "color": "#2a3f5f"
          },
          "geo": {
           "bgcolor": "white",
           "lakecolor": "white",
           "landcolor": "#E5ECF6",
           "showlakes": true,
           "showland": true,
           "subunitcolor": "white"
          },
          "hoverlabel": {
           "align": "left"
          },
          "hovermode": "closest",
          "mapbox": {
           "style": "light"
          },
          "paper_bgcolor": "white",
          "plot_bgcolor": "#E5ECF6",
          "polar": {
           "angularaxis": {
            "gridcolor": "white",
            "linecolor": "white",
            "ticks": ""
           },
           "bgcolor": "#E5ECF6",
           "radialaxis": {
            "gridcolor": "white",
            "linecolor": "white",
            "ticks": ""
           }
          },
          "scene": {
           "xaxis": {
            "backgroundcolor": "#E5ECF6",
            "gridcolor": "white",
            "gridwidth": 2,
            "linecolor": "white",
            "showbackground": true,
            "ticks": "",
            "zerolinecolor": "white"
           },
           "yaxis": {
            "backgroundcolor": "#E5ECF6",
            "gridcolor": "white",
            "gridwidth": 2,
            "linecolor": "white",
            "showbackground": true,
            "ticks": "",
            "zerolinecolor": "white"
           },
           "zaxis": {
            "backgroundcolor": "#E5ECF6",
            "gridcolor": "white",
            "gridwidth": 2,
            "linecolor": "white",
            "showbackground": true,
            "ticks": "",
            "zerolinecolor": "white"
           }
          },
          "shapedefaults": {
           "line": {
            "color": "#2a3f5f"
           }
          },
          "ternary": {
           "aaxis": {
            "gridcolor": "white",
            "linecolor": "white",
            "ticks": ""
           },
           "baxis": {
            "gridcolor": "white",
            "linecolor": "white",
            "ticks": ""
           },
           "bgcolor": "#E5ECF6",
           "caxis": {
            "gridcolor": "white",
            "linecolor": "white",
            "ticks": ""
           }
          },
          "title": {
           "x": 0.05
          },
          "xaxis": {
           "automargin": true,
           "gridcolor": "white",
           "linecolor": "white",
           "ticks": "",
           "title": {
            "standoff": 15
           },
           "zerolinecolor": "white",
           "zerolinewidth": 2
          },
          "yaxis": {
           "automargin": true,
           "gridcolor": "white",
           "linecolor": "white",
           "ticks": "",
           "title": {
            "standoff": 15
           },
           "zerolinecolor": "white",
           "zerolinewidth": 2
          }
         }
        },
        "title": {
         "text": "Comparativo de Preços - SamsungS24"
        },
        "xaxis": {
         "anchor": "y",
         "domain": [
          0,
          1
         ],
         "title": {
          "text": "Produto"
         }
        },
        "yaxis": {
         "anchor": "x",
         "domain": [
          0,
          1
         ],
         "range": [
          0,
          5.399
         ],
         "title": {
          "text": "Preço (R$)"
         }
        }
       }
      }
     },
     "metadata": {},
     "output_type": "display_data"
    }
   ],
   "source": [
    "\n",
    "df[f\"Produto\"] = [f\"{nomeProduto} {i+1}\" for i in range(len(df))]\n",
    "\n",
    "df[\"Preço\"] = df[\"Preço\"].astype(float)\n",
    "\n",
    "fig = px.bar(df, \n",
    "             x=\"Produto\", \n",
    "             y=\"Preço\", \n",
    "             title=f\"Comparativo de Preços - {nomeProduto}\",\n",
    "             labels={\"Preço\": \"Preço (R$)\", \"Link Produto\": \"Produto\"},\n",
    "             text=\"Preço\")\n",
    "\n",
    "fig.update_layout(\n",
    "    yaxis=dict(range=[0, df[\"Preço\"].max() + 1]),\n",
    ")\n",
    "\n",
    "fig.write_image(\"grafico_comparativo.png\")\n",
    "\n",
    "fig.show()"
   ]
  },
  {
   "cell_type": "code",
   "execution_count": null,
   "metadata": {},
   "outputs": [],
   "source": [
    "\n",
    "def enviar_email():\n",
    "    bodyEmail = \"\"\"\n",
    "    <p>Olá, Tudo bem?!</p>\n",
    "    <hr>\n",
    "    <p>Estamos felizes em enviar as informações que você solicitou sobre o produto!</p>\n",
    "    <p>Segue abaixo a tabela com os detalhes dos produtos disponíveis, incluindo nomes e links para compra.\n",
    "    Além disso, anexamos um gráfico interativo para facilitar a visualização dos dados.</p>\n",
    "    <p>Qualquer dúvida, estamos à disposição!</p>\n",
    "    <p>Atenciosamente,<br>Equipe <strong>Diagonal</strong> 🚀</p> \n",
    "    \"\"\"\n",
    "\n",
    "    msg = EmailMessage()\n",
    "    emails = dadosPrivados.dadosEmail()\n",
    "\n",
    "    msg['Subject'] = f\"Informações do {nomeProduto}!\"\n",
    "    msg['From'] = emails[\"email1\"]\n",
    "    msg['To'] = emails[\"email2\"]\n",
    "\n",
    "    senhaEmail = emails[\"code\"]\n",
    "\n",
    "    msg.add_header('Content-Type', 'text/html')\n",
    "    msg.set_payload(bodyEmail)\n",
    "\n",
    "    on = smtplib.SMTP('smtp.gmail.com', 587)\n",
    "    on.starttls()\n",
    "\n",
    "    on.login(msg['From'], senhaEmail)\n",
    "\n",
    "    with open(\"AutomateWeb.xlsx\", \"rb\") as f:\n",
    "        msg.add_attachment(f.read(), maintype='application', subtype='vnd.openxmlformats-officedocument.spreadsheetml.sheet', filename='AutomateWeb.xlsx')\n",
    "    \n",
    "    with open(\"grafico_comparativo.png\", \"rb\") as f:\n",
    "        msg.add_attachment(f.read(), maintype='image', subtype='png', filename='grafico_comparativo.png')\n",
    "\n",
    "    try:\n",
    "        on.sendmail(msg['From'], [msg['To']], msg.as_string().encode('utf-8'))\n",
    "        print('Email Enviado!')\n",
    "    except Exception as e:\n",
    "        print(f'Ocorreu um erro: {e}')"
   ]
  },
  {
   "cell_type": "code",
   "execution_count": 8,
   "metadata": {},
   "outputs": [
    {
     "name": "stdout",
     "output_type": "stream",
     "text": [
      "Email Enviado!\n"
     ]
    }
   ],
   "source": [
    "enviar_email()"
   ]
  }
 ],
 "metadata": {
  "kernelspec": {
   "display_name": "Python 3",
   "language": "python",
   "name": "python3"
  },
  "language_info": {
   "codemirror_mode": {
    "name": "ipython",
    "version": 3
   },
   "file_extension": ".py",
   "mimetype": "text/x-python",
   "name": "python",
   "nbconvert_exporter": "python",
   "pygments_lexer": "ipython3",
   "version": "3.12.3"
  }
 },
 "nbformat": 4,
 "nbformat_minor": 2
}
